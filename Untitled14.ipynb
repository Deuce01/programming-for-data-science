{
 "cells": [
  {
   "cell_type": "code",
   "execution_count": 4,
   "id": "2de2b611",
   "metadata": {},
   "outputs": [
    {
     "name": "stdout",
     "output_type": "stream",
     "text": [
      "accuracy of training set:0.95\n",
      "accuracy of testing set:0.61\n"
     ]
    }
   ],
   "source": [
    "#creating linear regression model using extended Boston\n",
    "from sklearn.linear_model import LinearRegression\n",
    "from sklearn.model_selection import train_test_split\n",
    "import mglearn\n",
    "\n",
    "X,y =mglearn.datasets.load_extended_boston()\n",
    "X_train,x_test,y_train,y_test=train_test_split(X,y,random_state=0)\n",
    "\n",
    "lr=LinearRegression()\n",
    "lr.fit(X_train,y_train)\n",
    "\n",
    "print('accuracy of training set:{:.2f}'.format(lr.score(X_train,y_train)))\n",
    "print('accuracy of testing set:{:.2f}'.format(lr.score(x_test,y_test)))\n",
    "\n"
   ]
  },
  {
   "cell_type": "code",
   "execution_count": 23,
   "id": "e2a5dbd7",
   "metadata": {},
   "outputs": [
    {
     "name": "stdout",
     "output_type": "stream",
     "text": [
      "Training set score: 0.89\n",
      "Testing set score: 0.75\n"
     ]
    }
   ],
   "source": [
    "from sklearn.linear_model import Ridge\n",
    "ridge = Ridge().fit(X_train, y_train)\n",
    "print( \"Training set score: {:.2f}\".format(ridge.score(X_train, y_train)))\n",
    "print(\"Testing set score: {:.2f}\".format(ridge.score(x_test, y_test) ))\n"
   ]
  },
  {
   "cell_type": "code",
   "execution_count": 24,
   "id": "5951ec11",
   "metadata": {},
   "outputs": [
    {
     "name": "stdout",
     "output_type": "stream",
     "text": [
      "Training set score: 0.79\n",
      "Testing set score: 0.64\n"
     ]
    }
   ],
   "source": [
    "from sklearn.linear_model import Ridge\n",
    "ridge10 = Ridge(alpha=10).fit(X_train, y_train)\n",
    "print( \"Training set score: {:.2f}\".format(ridge10.score(X_train, y_train)))\n",
    "print(\"Testing set score: {:.2f}\".format(ridge10.score(x_test, y_test) ))\n"
   ]
  },
  {
   "cell_type": "code",
   "execution_count": 25,
   "id": "bc547006",
   "metadata": {},
   "outputs": [
    {
     "name": "stdout",
     "output_type": "stream",
     "text": [
      "Training set score: 0.93\n",
      "Testing set score: 0.77\n"
     ]
    }
   ],
   "source": [
    "from sklearn.linear_model import Ridge\n",
    "ridge01 = Ridge(alpha=0.1).fit(X_train, y_train)\n",
    "print( \"Training set score: {:.2f}\".format(ridge01.score(X_train, y_train)))\n",
    "print(\"Testing set score: {:.2f}\".format(ridge01.score(x_test, y_test) ))\n"
   ]
  },
  {
   "cell_type": "code",
   "execution_count": 27,
   "id": "58b5f73a",
   "metadata": {},
   "outputs": [
    {
     "data": {
      "text/plain": [
       "array([-2.33300720e+00, -5.44192850e+00, -6.12865463e+00, -7.78524693e-01,\n",
       "        1.29152995e+00,  1.90222839e+01,  4.35864731e+00, -1.11911067e+01,\n",
       "        9.55539672e+00, -7.48671406e-01, -5.33307088e-01,  6.23384946e+00,\n",
       "       -2.72886731e+00,  5.86117121e+00,  2.28233711e-02, -9.01608311e-01,\n",
       "        4.66756441e+00, -3.37983354e+00,  1.31611460e+00, -3.48895554e+00,\n",
       "        4.41536215e-01, -3.51941085e+00, -2.52222659e+00, -2.69562070e+00,\n",
       "        2.44649480e-01, -1.02306604e+00,  3.04223584e+00, -2.68804128e+00,\n",
       "        4.28396019e+00, -2.94109311e+00,  8.70934702e+00, -3.13683472e+00,\n",
       "       -2.91608183e-01,  2.17487375e+00,  3.62658111e+00,  2.30047840e+00,\n",
       "       -2.83789461e+00, -6.17207969e+00,  7.94858912e+00,  1.65631996e+00,\n",
       "        8.72779643e+00,  1.08042552e+00,  5.72208008e+00, -4.76401068e+00,\n",
       "        5.07461001e+00,  8.01603635e+00, -8.44254041e+00, -6.44526450e-01,\n",
       "       -1.42288399e+01, -7.78524693e-01, -1.38982595e+01, -1.59298479e+01,\n",
       "        6.42600904e+00, -1.85273659e+00,  6.37949850e+00,  4.03122648e+00,\n",
       "       -9.48053011e-01,  1.11134392e+01, -6.97597662e+00, -6.71608608e-01,\n",
       "       -2.57821560e+00, -6.75682968e+00, -6.64502320e-01, -6.51766291e+00,\n",
       "       -1.39428124e+00, -5.01222387e+00,  4.95142754e-01,  4.28518263e+00,\n",
       "        2.07929059e+01, -8.25633566e+00,  4.23355958e+00, -1.42148213e+01,\n",
       "       -1.50040331e+01, -1.81482746e+01,  1.29863847e+01, -7.81521793e+00,\n",
       "        4.17140075e-02,  2.98000026e+00,  1.11635112e+01, -3.15698906e+00,\n",
       "       -3.38217977e-02, -4.16581719e+00, -1.16026109e+01,  1.06340583e+01,\n",
       "        3.69989958e+00,  2.57472915e+00, -4.90940106e-01, -1.25359509e+01,\n",
       "        4.66411178e+00, -4.68023584e+00,  4.82063467e+00,  3.90895995e+00,\n",
       "       -2.35620652e+00, -1.28782370e+01, -7.79203331e-01,  8.56450892e+00,\n",
       "       -2.85003291e+00, -1.34581797e+01,  3.82432768e+00, -5.59661786e-01,\n",
       "        4.94747863e+00,  2.66776499e+00, -6.90762636e+00,  2.42585962e+01])"
      ]
     },
     "execution_count": 27,
     "metadata": {},
     "output_type": "execute_result"
    }
   ],
   "source": [
    "ridge01.coef_"
   ]
  },
  {
   "cell_type": "code",
   "execution_count": 28,
   "id": "6a87a295",
   "metadata": {},
   "outputs": [
    {
     "data": {
      "text/plain": [
       "array([-4.12710947e+02, -5.22432068e+01, -1.31898815e+02, -1.20041365e+01,\n",
       "       -1.55107129e+01,  2.87163342e+01,  5.47040992e+01, -4.95346659e+01,\n",
       "        2.65823927e+01,  3.70620316e+01, -1.18281674e+01, -1.80581965e+01,\n",
       "       -1.95246830e+01,  1.22025403e+01,  2.98078144e+03,  1.50084257e+03,\n",
       "        1.14187325e+02, -1.69700520e+01,  4.09613691e+01, -2.42636646e+01,\n",
       "        5.76157466e+01,  1.27812142e+03, -2.23986944e+03,  2.22825472e+02,\n",
       "       -2.18201083e+00,  4.29960320e+01, -1.33981515e+01, -1.93893485e+01,\n",
       "       -2.57541277e+00, -8.10130128e+01,  9.66019367e+00,  4.91423718e+00,\n",
       "       -8.12114800e-01, -7.64694179e+00,  3.37837099e+01, -1.14464390e+01,\n",
       "        6.85083979e+01, -1.73753604e+01,  4.28128204e+01,  1.13988209e+00,\n",
       "       -7.72696840e-01,  5.68255921e+01,  1.42875996e+01,  5.39551110e+01,\n",
       "       -3.21709644e+01,  1.92709675e+01, -1.38852338e+01,  6.06343266e+01,\n",
       "       -1.23153942e+01, -1.20041365e+01, -1.77243899e+01, -3.39868183e+01,\n",
       "        7.08999816e+00, -9.22538241e+00,  1.71980268e+01, -1.27718431e+01,\n",
       "       -1.19727581e+01,  5.73871915e+01, -1.75331865e+01,  4.10103194e+00,\n",
       "        2.93666477e+01, -1.76611772e+01,  7.84049424e+01, -3.19098015e+01,\n",
       "        4.81752461e+01, -3.95344813e+01,  5.22959055e+00,  2.19982410e+01,\n",
       "        2.56483934e+01, -4.99982035e+01,  2.91457545e+01,  8.94267456e+00,\n",
       "       -7.16599297e+01, -2.28147862e+01,  8.40660981e+00, -5.37905422e+00,\n",
       "        1.20137322e+00, -5.20877186e+00,  4.11452351e+01, -3.78250760e+01,\n",
       "       -2.67163851e+00, -2.55217108e+01, -3.33982030e+01,  4.62272693e+01,\n",
       "       -2.41509169e+01, -1.77532970e+01, -1.39723701e+01, -2.35522208e+01,\n",
       "        3.68353800e+01, -9.46890859e+01,  1.44302810e+02, -1.51158659e+01,\n",
       "       -1.49513436e+01, -2.87729579e+01, -3.17673192e+01,  2.49551594e+01,\n",
       "       -1.84384534e+01,  3.65073948e+00,  1.73101122e+00,  3.53617137e+01,\n",
       "        1.19553429e+01,  6.77025947e-01,  2.73452009e+00,  3.03720012e+01])"
      ]
     },
     "execution_count": 28,
     "metadata": {},
     "output_type": "execute_result"
    }
   ],
   "source": [
    "lr.coef_"
   ]
  },
  {
   "cell_type": "code",
   "execution_count": 36,
   "id": "53bdb64c",
   "metadata": {},
   "outputs": [
    {
     "data": {
      "text/plain": [
       "<matplotlib.legend.Legend at 0x1f24346c700>"
      ]
     },
     "execution_count": 36,
     "metadata": {},
     "output_type": "execute_result"
    },
    {
     "data": {
      "image/png": "[encoded data removed]",
      "text/plain": [
       "<Figure size 432x288 with 1 Axes>"
      ]
     },
     "metadata": {
      "needs_background": "light"
     },
     "output_type": "display_data"
    }
   ],
   "source": [
    "import matplotlib.pyplot as plt\n",
    "plt.plot(ridge.coef_,\"s\",label=\"Ridge alpha=1\")\n",
    "plt.plot(ridge10.coef_,\"^\",label=\"Ridge alpha=10\")\n",
    "plt.plot(ridge01.coef_,\"v\",label=\"Ridge alpha=0.01\")\n",
    "plt.plot(lr.coef_,\"o\",label=\"Linear Regression\")\n",
    "plt.hlines(0,0 ,len((lr.coef_)))\n",
    "plt.ylim(-25,25)\n",
    "plt.legend()"
   ]
  },
  {
   "cell_type": "code",
   "execution_count": null,
   "id": "8befcc5c",
   "metadata": {},
   "outputs": [],
   "source": []
  }
 ],
 "metadata": {
  "kernelspec": {
   "display_name": "Python 3 (ipykernel)",
   "language": "python",
   "name": "python3"
  },
  "language_info": {
   "codemirror_mode": {
    "name": "ipython",
    "version": 3
   },
   "file_extension": ".py",
   "mimetype": "text/x-python",
   "name": "python",
   "nbconvert_exporter": "python",
   "pygments_lexer": "ipython3",
   "version": "3.9.7"
  }
 },
 "nbformat": 4,
 "nbformat_minor": 5
}
